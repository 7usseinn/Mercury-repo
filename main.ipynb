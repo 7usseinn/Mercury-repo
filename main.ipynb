{
 "cells": [
  {
   "cell_type": "code",
   "execution_count": 11,
   "metadata": {},
   "outputs": [],
   "source": [
    "import database_handler\n",
    "db_session = database_handler.connect_to_db('config.json')"
   ]
  },
  {
   "cell_type": "code",
   "execution_count": null,
   "metadata": {},
   "outputs": [],
   "source": [
    "import data_handler\n",
    "df = data_handler.return_data_as_dataframe(r'D:\\Workspace\\USJ\\Projects\\raw_data\\mercury_data\\fraud.csv','csv', db_session)"
   ]
  },
  {
   "cell_type": "code",
   "execution_count": 7,
   "metadata": {},
   "outputs": [],
   "source": [
    "df = df.head(10)"
   ]
  },
  {
   "cell_type": "code",
   "execution_count": 8,
   "metadata": {},
   "outputs": [],
   "source": [
    "insert_statements = data_handler.return_insert_statement(df,'stg_kaggle_fraud','bank_schema')"
   ]
  },
  {
   "cell_type": "code",
   "execution_count": 9,
   "metadata": {},
   "outputs": [
    {
     "name": "stdout",
     "output_type": "stream",
     "text": [
      "INSERT INTO bank_schema.stg_kaggle_fraud (step,type,amount,nameOrig,oldbalanceOrg,newbalanceOrig,nameDest,oldbalanceDest,newbalanceDest,isFraud,isFlaggedFraud) VALUES (1, 'PAYMENT', 1864.28, 'C1666544295', 21249.0, 19384.72, 'M2044282225', 0.0, 0.0, 0, 0);\n"
     ]
    }
   ],
   "source": [
    "print(insert_statements[1])"
   ]
  },
  {
   "cell_type": "code",
   "execution_count": 10,
   "metadata": {},
   "outputs": [
    {
     "name": "stdout",
     "output_type": "stream",
     "text": [
      "2023-10-31 09:34:26.441448 - error - Error happenend - 'NoneType' object has no attribute 'cursor' - Error executing query (excute_query)\n"
     ]
    }
   ],
   "source": [
    "# either make all statements as 1 and execute\n",
    "# or for insert_statement in insert_statements (execute(insert_statement))\n",
    "database_handler.execute_query(db_session,insert_statements)"
   ]
  },
  {
   "cell_type": "code",
   "execution_count": null,
   "metadata": {},
   "outputs": [],
   "source": [
    "# option 1\n",
    "# recommended: ';'.join(insert_statements) = insert_statement\n",
    "# database_handler.execute_query(insert_statement)\n",
    "\n",
    "# option 2\n",
    "for insert_statement in insert_statements:\n",
    "    database_handler.execute_query(db_session, insert_statement)"
   ]
  }
 ],
 "metadata": {
  "kernelspec": {
   "display_name": "usj_data_project",
   "language": "python",
   "name": "python3"
  },
  "language_info": {
   "codemirror_mode": {
    "name": "ipython",
    "version": 3
   },
   "file_extension": ".py",
   "mimetype": "text/x-python",
   "name": "python",
   "nbconvert_exporter": "python",
   "pygments_lexer": "ipython3",
   "version": "3.8.18"
  },
  "orig_nbformat": 4
 },
 "nbformat": 4,
 "nbformat_minor": 2
}
