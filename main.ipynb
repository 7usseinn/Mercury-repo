{
 "cells": [
  {
   "cell_type": "code",
   "execution_count": 1,
   "metadata": {},
   "outputs": [],
   "source": [
    "import database_handler\n",
    "db_session = database_handler.connect_to_db('config.json')"
   ]
  },
  {
   "cell_type": "code",
   "execution_count": 2,
   "metadata": {},
   "outputs": [
    {
     "name": "stdout",
     "output_type": "stream",
     "text": [
      "CREATE TABLE IF NOT EXISTS bank_schema.StagingTableFraud ( \n",
      "ID SERIAL PRIMARY KEY,\n",
      "Step INT,\n",
      "Type TEXT,\n",
      "Amount FLOAT,\n",
      "nameOrig TEXT,\n",
      "oldBalanceOrig FLOAT,\n",
      "nameDest TEXT,\n",
      "oldBalanceDest FLOAT,\n",
      "newBalanceDest FLOAT,\n",
      "isFraud INT,\n",
      "isFlaggedFraud INT);\n"
     ]
    }
   ],
   "source": [
    "import pandas as pd\n",
    "from data_handler import return_create_statement_from_df\n",
    "fraud_data = {\n",
    "    'Step': [0], \n",
    "    'Type': [''],\n",
    "    'Amount': [0.0],\n",
    "    'nameOrig': [''],\n",
    "    'oldBalanceOrig': [0.0],\n",
    "    'nameDest': [''],\n",
    "    'oldBalanceDest': [0.0],\n",
    "    'newBalanceDest': [0.0],\n",
    "    'isFraud': [0],\n",
    "    'isFlaggedFraud': [0]\n",
    "}\n",
    "\n",
    "df = pd.DataFrame(fraud_data)\n",
    "\n",
    "create_statement = return_create_statement_from_df(df, \"bank_schema\", \"StagingTableFraud\")\n",
    "# stg_kaggle_fraud\n",
    "print(create_statement)\n"
   ]
  },
  {
   "cell_type": "code",
   "execution_count": 3,
   "metadata": {},
   "outputs": [],
   "source": [
    "from database_handler import execute_query\n",
    "\n",
    "execute_query(db_session,create_statement)"
   ]
  }
 ],
 "metadata": {
  "kernelspec": {
   "display_name": "usj_data_project",
   "language": "python",
   "name": "python3"
  },
  "language_info": {
   "codemirror_mode": {
    "name": "ipython",
    "version": 3
   },
   "file_extension": ".py",
   "mimetype": "text/x-python",
   "name": "python",
   "nbconvert_exporter": "python",
   "pygments_lexer": "ipython3",
   "version": "3.9.18"
  },
  "orig_nbformat": 4
 },
 "nbformat": 4,
 "nbformat_minor": 2
}
