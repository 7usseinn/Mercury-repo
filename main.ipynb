{
 "cells": [
  {
   "cell_type": "code",
   "execution_count": 1,
   "metadata": {},
   "outputs": [],
   "source": [
    "import database_handler\n",
    "db_session = database_handler.connect_to_db('config.json')"
   ]
  },
  {
   "cell_type": "code",
   "execution_count": 2,
   "metadata": {},
   "outputs": [
    {
     "name": "stdout",
     "output_type": "stream",
     "text": [
      "CREATE TABLE IF NOT EXISTS bank_schema.stg_kaggle_fraud2 ( \n",
      "ID SERIAL PRIMARY KEY,\n",
      "trans_date TEXT,\n",
      "cc_num TEXT,\n",
      "merchant TEXT,\n",
      "category TEXT,\n",
      "amt FLOAT,\n",
      "first TEXT,\n",
      "last TEXT,\n",
      "gender TEXT,\n",
      "street TEXT,\n",
      "city TEXT,\n",
      "state TEXT,\n",
      "zip INT,\n",
      "lat FLOAT,\n",
      "long FLOAT,\n",
      "city_pop FLOAT,\n",
      "job TEXT,\n",
      "dob TEXT,\n",
      "trans_num TEXT,\n",
      "unix_time FLOAT,\n",
      "merch_lat FLOAT,\n",
      "merch_long FLOAT,\n",
      "is_fraud INT);\n"
     ]
    }
   ],
   "source": [
    "import data_handler\n",
    "import pandas as pd\n",
    "\n",
    "data = {\n",
    "    'trans_date': [''],\n",
    "    'cc_num': [''],\n",
    "    'merchant': [''],\n",
    "    'category': [''],\n",
    "    'amt': [0.0],\n",
    "    'first': [''],\n",
    "    'last': [''],\n",
    "    'gender': [''],\n",
    "    'street': [''],\n",
    "    'city': [''],\n",
    "    'state': [''],\n",
    "    'zip': [0],\n",
    "    'lat': [0.0],\n",
    "    'long': [0.0],\n",
    "    'city_pop': [0.0],\n",
    "    'job': [''],\n",
    "    'dob': [''],\n",
    "    'trans_num': [''],\n",
    "    'unix_time': [0.0],\n",
    "    'merch_lat': [0.0],\n",
    "    'merch_long': [0.0],\n",
    "    'is_fraud': [0]\n",
    "}\n",
    "\n",
    "df = pd.DataFrame(data)\n",
    "\n",
    "create_statement=data_handler.return_create_statement_from_df(df,'bank_schema','stg_kaggle_fraud2' )\n",
    "print(create_statement)"
   ]
  },
  {
   "cell_type": "code",
   "execution_count": 3,
   "metadata": {},
   "outputs": [],
   "source": [
    "from database_handler import execute_query\n",
    "\n",
    "execute_query(db_session,create_statement)"
   ]
  }
 ],
 "metadata": {
  "kernelspec": {
   "display_name": "usj_data_project",
   "language": "python",
   "name": "python3"
  },
  "language_info": {
   "codemirror_mode": {
    "name": "ipython",
    "version": 3
   },
   "file_extension": ".py",
   "mimetype": "text/x-python",
   "name": "python",
   "nbconvert_exporter": "python",
   "pygments_lexer": "ipython3",
   "version": "3.9.18"
  },
  "orig_nbformat": 4
 },
 "nbformat": 4,
 "nbformat_minor": 2
}
