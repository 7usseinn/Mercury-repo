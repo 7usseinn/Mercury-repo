{
 "cells": [
  {
   "cell_type": "code",
   "execution_count": 1,
   "metadata": {},
   "outputs": [],
   "source": [
    "import database_handler\n",
    "db_session = database_handler.connect_to_db('config.json')"
   ]
  },
  {
   "cell_type": "code",
   "execution_count": 2,
   "metadata": {},
   "outputs": [],
   "source": [
    "import data_handler\n",
    "\n",
    "df = data_handler.return_data_as_dataframe(r'C:\\Users\\Lenovo\\OneDrive\\Desktop\\jem3a\\Projet_Info_Data\\Fraud.csv','csv', db_session)\n"
   ]
  },
  {
   "cell_type": "code",
   "execution_count": 3,
   "metadata": {},
   "outputs": [],
   "source": [
    "insert_statements = data_handler.return_insert_statement(df,'stg_kaggle_fraud','bank_schema')"
   ]
  },
  {
   "cell_type": "code",
   "execution_count": 4,
   "metadata": {},
   "outputs": [
    {
     "name": "stdout",
     "output_type": "stream",
     "text": [
      "2023-10-26 01:11:40.380417 - error - Error happenend - argument 1 must be a string or unicode object: got list instead - Error executing query (excute_query)\n"
     ]
    }
   ],
   "source": [
    "database_handler.execute_query(db_session,insert_statements)"
   ]
  },
  {
   "cell_type": "code",
   "execution_count": 5,
   "metadata": {},
   "outputs": [
    {
     "name": "stdout",
     "output_type": "stream",
     "text": [
      "INSERT INTO bank_schema.stg_kaggle_fraud (step,type,amount,nameOrig,oldbalanceOrg,newbalanceOrig,nameDest,oldbalanceDest,newbalanceDest,isFraud,isFlaggedFraud) VALUES (1, PAYMENT, 1864.28, C1666544295, 21249.0, 19384.72, M2044282225, 0.0, 0.0, 0, 0);\n"
     ]
    }
   ],
   "source": [
    "print(insert_statements[1])"
   ]
  }
 ],
 "metadata": {
  "kernelspec": {
   "display_name": "usj_data_project",
   "language": "python",
   "name": "python3"
  },
  "language_info": {
   "codemirror_mode": {
    "name": "ipython",
    "version": 3
   },
   "file_extension": ".py",
   "mimetype": "text/x-python",
   "name": "python",
   "nbconvert_exporter": "python",
   "pygments_lexer": "ipython3",
   "version": "3.9.18"
  },
  "orig_nbformat": 4
 },
 "nbformat": 4,
 "nbformat_minor": 2
}
