{
 "cells": [
  {
   "cell_type": "code",
   "execution_count": 1,
   "metadata": {},
   "outputs": [],
   "source": [
    "import database_handler\n",
    "import data_handler\n",
    "db_session = database_handler.connect_to_db('config.json')"
   ]
  },
  {
   "cell_type": "code",
   "execution_count": 2,
   "metadata": {},
   "outputs": [],
   "source": [
    "fraud_dataframe = data_handler.return_data_as_dataframe(r'https://drive.google.com/file/d/13I3kntTNJVMcQwV0iBYLsK8smqjr6iX6/view?usp=drive_link','csv', db_session)"
   ]
  },
  {
   "cell_type": "code",
   "execution_count": 3,
   "metadata": {},
   "outputs": [
    {
     "name": "stdout",
     "output_type": "stream",
     "text": [
      "  <!DOCTYPE html><html><head><meta name=\"google\" content=\"notranslate\"><meta http-equiv=\"X-UA-Compatible\" content=\"IE=edge;\"><style nonce=\"g0KcrjJcdGTroLyyhbhgFg\">@font-face{font-family:'Roboto';font-style:italic;font-weight:400;src:url(//fonts.gstatic.com/s/roboto/v18/KFOkCnqEu92Fr1Mu51xIIzc.ttf)format('truetype');}@font-face{font-family:'Roboto';font-style:normal;font-weight:300;src:url(//fonts.gstatic.com/s/roboto/v18/KFOlCnqEu92Fr1MmSU5fBBc9.ttf)format('truetype');}@font-face{font-family:'Roboto';font-style:normal;font-weight:400;src:url(//fonts.gstatic.com/s/roboto/v18/KFOmCnqEu92Fr1Mu4mxP.ttf)format('truetype');}@font-face{font-family:'Roboto';font-style:normal;font-weight:500;src:url(//fonts.gstatic.com/s/roboto/v18/KFOlCnqEu92Fr1MmEU9fBBc9.ttf)format('truetype');}@font-face{font-family:'Roboto';font-style:normal;font-weight:700;src:url(//fonts.gstatic.com/s/roboto/v18/KFOlCnqEu92Fr1MmWUlfBBc9.ttf)format('truetype');}</style><meta name=\"referrer\" content=\"origin\"><title>Fraud.csv - Google Drive</title><meta property=\"og:title\" content=\"Fraud.csv\"><meta property=\"og:type\" content=\"article\"><meta property=\"og:site_name\" content=\"Google Docs\"><meta property=\"og:url\" content=\"https://drive.google.com/file/d/13I3kntTNJVMcQwV0iBYLsK8smqjr6iX6/view?usp=drive_link&amp;usp=embed_facebook\"><link rel=\"shortcut icon\" href=\"https://ssl.gstatic.com/images/branding/product/1x/drive_2020q4_32dp.png\"><link rel=\"stylesheet\" href=\"https://fonts.googleapis.com/css?family=Google+Sans:300  \\\n",
      "0                                               try{                                                                                                                                                                                                                                                                                                                                                                                                                                                                                                                                                                                                                                                                                                                                                                                                                                                                                                                                                                                                                                                                                                                                                                                                                                                                                                                                                                                                                                                                                                         \n",
      "1  _._F_toggles_initialize=function(a){(\"undefine...                                                                                                                                                                                                                                                                                                                                                                                                                                                                                                                                                                                                                                                                                                                                                                                                                                                                                                                                                                                                                                                                                                                                                                                                                                                                                                                                                                                                                                                                                                         \n",
      "2                                                 /*                                                                                                                                                                                                                                                                                                                                                                                                                                                                                                                                                                                                                                                                                                                                                                                                                                                                                                                                                                                                                                                                                                                                                                                                                                                                                                                                                                                                                                                                                                         \n",
      "3             Copyright The Closure Library Authors.                                                                                                                                                                                                                                                                                                                                                                                                                                                                                                                                                                                                                                                                                                                                                                                                                                                                                                                                                                                                                                                                                                                                                                                                                                                                                                                                                                                                                                                                                                         \n",
      "4                SPDX-License-Identifier: Apache-2.0                                                                                                                                                                                                                                                                                                                                                                                                                                                                                                                                                                                                                                                                                                                                                                                                                                                                                                                                                                                                                                                                                                                                                                                                                                                                                                                                                                                                                                                                                                         \n",
      "\n",
      "                             400  500  \\\n",
      "0                            NaN  NaN   \n",
      "1  _._F_toggles_initialize)([]);  NaN   \n",
      "2                            NaN  NaN   \n",
      "3                            NaN  NaN   \n",
      "4                            NaN  NaN   \n",
      "\n",
      "  700\" nonce=\"g0KcrjJcdGTroLyyhbhgFg\"><link rel=\"stylesheet\" href=\"https://www.gstatic.com/_/apps-fileview/_/ss/k=apps-fileview.v.GO0uSfTYBf8.R.X.O/am=IAw/d=0/rs=AO0039u41qvjgCoZjCPTQAExJhCuiGYojw\" nonce=\"g0KcrjJcdGTroLyyhbhgFg\"><script nonce=\"BE2I407SjJkTAutQGlK3Kw\">_docs_flag_initialData={\"docs-ails\":\"docs_cold\"  \\\n",
      "0                                                NaN                                                                                                                                                                                                                                                                          \n",
      "1                                                NaN                                                                                                                                                                                                                                                                          \n",
      "2                                                NaN                                                                                                                                                                                                                                                                          \n",
      "3                                                NaN                                                                                                                                                                                                                                                                          \n",
      "4                                                NaN                                                                                                                                                                                                                                                                          \n",
      "\n",
      "  docs-fwds:\"docs_sdf\" docs-crs:\"docs_crs_nl\" docs-fe-re:2 docs-fl:1  \\\n",
      "0                  NaN                    NaN          NaN       NaN   \n",
      "1                  NaN                    NaN          NaN       NaN   \n",
      "2                  NaN                    NaN          NaN       NaN   \n",
      "3                  NaN                    NaN          NaN       NaN   \n",
      "4                  NaN                    NaN          NaN       NaN   \n",
      "\n",
      "  docs-l1lc:2 docs-l1lm:\"IAD\"  ... 0.89 0.90 0.91 1.70 82159412].1 [[null.2  \\\n",
      "0         NaN             NaN  ...  NaN  NaN  NaN  NaN         NaN      NaN   \n",
      "1         NaN             NaN  ...  NaN  NaN  NaN  NaN         NaN      NaN   \n",
      "2         NaN             NaN  ...  NaN  NaN  NaN  NaN         NaN      NaN   \n",
      "3         NaN             NaN  ...  NaN  NaN  NaN  NaN         NaN      NaN   \n",
      "4         NaN             NaN  ...  NaN  NaN  NaN  NaN         NaN      NaN   \n",
      "\n",
      "  null.215 null.216  \\\n",
      "0      NaN      NaN   \n",
      "1      NaN      NaN   \n",
      "2      NaN      NaN   \n",
      "3      NaN      NaN   \n",
      "4      NaN      NaN   \n",
      "\n",
      "  https://www.gstatic.com/og/_/js/k=og.qtm.en_US.TUEkZq1Wf2M.es5.O/rt=j/m=qabr,q_dnp,qapid,q_dg/exm=qaaw,qadd,qaid,qein,qhaw,qhba,qhbr,qhch,qhga,qhid,qhin/d=1/ed=1/rs=AA2YrTuQqwhiA7Sk7kJpdB9P4FhgiLDZsg]]]]  \\\n",
      "0                                                NaN                                                                                                                                                            \n",
      "1                                                NaN                                                                                                                                                            \n",
      "2                                                NaN                                                                                                                                                            \n",
      "3                                                NaN                                                                                                                                                            \n",
      "4                                                NaN                                                                                                                                                            \n",
      "\n",
      "  };this.gbar_=this.gbar_||{};(function(_){var window=this;  \n",
      "0                                                NaN         \n",
      "1                                                NaN         \n",
      "2                                                NaN         \n",
      "3                                                NaN         \n",
      "4                                                NaN         \n",
      "\n",
      "[5 rows x 1030 columns]\n"
     ]
    }
   ],
   "source": [
    "print(fraud_dataframe.head(5))"
   ]
  },
  {
   "cell_type": "code",
   "execution_count": 3,
   "metadata": {},
   "outputs": [],
   "source": [
    "stg_table_query = data_handler.create_staging_table(fraud_dataframe,'bank_schema','stg_kaggle_fraud')\n",
    "database_handler.execute_query(db_session,stg_table_query)"
   ]
  },
  {
   "cell_type": "code",
   "execution_count": 4,
   "metadata": {},
   "outputs": [],
   "source": [
    "insert_statements = data_handler.return_insert_statement(fraud_dataframe,'stg_kaggle_fraud','bank_schema')"
   ]
  },
  {
   "cell_type": "code",
   "execution_count": 5,
   "metadata": {},
   "outputs": [],
   "source": [
    "for insert_statement in insert_statements:\n",
    "    database_handler.execute_query(db_session, insert_statement)"
   ]
  },
  {
   "cell_type": "code",
   "execution_count": 4,
   "metadata": {},
   "outputs": [],
   "source": [
    "import database_handler\n",
    "etl_watermark_table_sql = data_handler.return_sql_file(r'/Users/elieelkhoury/Desktop/Desk/ProjetInfo/Mercury-repo/SQL_Commands/V2__create_etl_watermark.sql')\n",
    "database_handler.execute_query(db_session,etl_watermark_table_sql)"
   ]
  },
  {
   "cell_type": "code",
   "execution_count": 5,
   "metadata": {},
   "outputs": [],
   "source": [
    "sql_fact_table = data_handler.return_sql_file(r'/Users/elieelkhoury/Desktop/Desk/ProjetInfo/Mercury-repo/SQL_Commands/V3__create_dimensions.sql')\n",
    "database_handler.execute_query(db_session,sql_fact_table)"
   ]
  },
  {
   "cell_type": "code",
   "execution_count": 8,
   "metadata": {},
   "outputs": [],
   "source": [
    "insert_statements = data_handler.return_insert_statement(fraud_dataframe,'fct_fraud','bank_schema')"
   ]
  },
  {
   "cell_type": "code",
   "execution_count": 9,
   "metadata": {},
   "outputs": [],
   "source": [
    "for insert_statement in insert_statements:\n",
    "    database_handler.execute_query(db_session, insert_statement)"
   ]
  },
  {
   "cell_type": "code",
   "execution_count": 11,
   "metadata": {},
   "outputs": [],
   "source": [
    "agg_tables_sql = data_handler.return_sql_file(r'/Users/elieelkhoury/Desktop/Desk/ProjetInfo/Mercury-repo/SQL_Commands/V4__create_aggregate_tables.sql')\n",
    "database_handler.execute_query(db_session,agg_tables_sql)"
   ]
  }
 ],
 "metadata": {
  "kernelspec": {
   "display_name": "usj_data_project",
   "language": "python",
   "name": "python3"
  },
  "language_info": {
   "codemirror_mode": {
    "name": "ipython",
    "version": 3
   },
   "file_extension": ".py",
   "mimetype": "text/x-python",
   "name": "python",
   "nbconvert_exporter": "python",
   "pygments_lexer": "ipython3",
   "version": "3.9.18"
  },
  "orig_nbformat": 4
 },
 "nbformat": 4,
 "nbformat_minor": 2
}
