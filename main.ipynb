{
 "cells": [
  {
   "cell_type": "code",
   "execution_count": 1,
   "metadata": {},
   "outputs": [
    {
     "ename": "OperationalError",
     "evalue": "invalid integer value \"YourPort\" for connection option \"port\"\n",
     "output_type": "error",
     "traceback": [
      "\u001b[1;31m---------------------------------------------------------------------------\u001b[0m",
      "\u001b[1;31mOperationalError\u001b[0m                          Traceback (most recent call last)",
      "\u001b[1;32mc:\\Users\\Lenovo\\OneDrive\\Desktop\\jem3a\\Projet_Info_Data\\Mercury-repo\\main.ipynb Cell 1\u001b[0m line \u001b[0;36m4\n\u001b[0;32m     <a href='vscode-notebook-cell:/c%3A/Users/Lenovo/OneDrive/Desktop/jem3a/Projet_Info_Data/Mercury-repo/main.ipynb#W0sZmlsZQ%3D%3D?line=40'>41</a>\u001b[0m         sql_query \u001b[39m=\u001b[39m file\u001b[39m.\u001b[39mread()\n\u001b[0;32m     <a href='vscode-notebook-cell:/c%3A/Users/Lenovo/OneDrive/Desktop/jem3a/Projet_Info_Data/Mercury-repo/main.ipynb#W0sZmlsZQ%3D%3D?line=41'>42</a>\u001b[0m         execute_query(conn, sql_query)\n\u001b[1;32m---> <a href='vscode-notebook-cell:/c%3A/Users/Lenovo/OneDrive/Desktop/jem3a/Projet_Info_Data/Mercury-repo/main.ipynb#W0sZmlsZQ%3D%3D?line=43'>44</a>\u001b[0m conn \u001b[39m=\u001b[39m connect_to_db()\n\u001b[0;32m     <a href='vscode-notebook-cell:/c%3A/Users/Lenovo/OneDrive/Desktop/jem3a/Projet_Info_Data/Mercury-repo/main.ipynb#W0sZmlsZQ%3D%3D?line=44'>45</a>\u001b[0m execute_sql_file(conn, \u001b[39m\"\u001b[39m\u001b[39mquery.sql\u001b[39m\u001b[39m\"\u001b[39m)\n",
      "\u001b[1;32mc:\\Users\\Lenovo\\OneDrive\\Desktop\\jem3a\\Projet_Info_Data\\Mercury-repo\\main.ipynb Cell 1\u001b[0m line \u001b[0;36m6\n\u001b[0;32m      <a href='vscode-notebook-cell:/c%3A/Users/Lenovo/OneDrive/Desktop/jem3a/Projet_Info_Data/Mercury-repo/main.ipynb#W0sZmlsZQ%3D%3D?line=4'>5</a>\u001b[0m \u001b[39mdef\u001b[39;00m \u001b[39mconnect_to_db\u001b[39m():\n\u001b[1;32m----> <a href='vscode-notebook-cell:/c%3A/Users/Lenovo/OneDrive/Desktop/jem3a/Projet_Info_Data/Mercury-repo/main.ipynb#W0sZmlsZQ%3D%3D?line=5'>6</a>\u001b[0m     conn \u001b[39m=\u001b[39m psycopg2\u001b[39m.\u001b[39;49mconnect(\n\u001b[0;32m      <a href='vscode-notebook-cell:/c%3A/Users/Lenovo/OneDrive/Desktop/jem3a/Projet_Info_Data/Mercury-repo/main.ipynb#W0sZmlsZQ%3D%3D?line=6'>7</a>\u001b[0m         database\u001b[39m=\u001b[39;49m\u001b[39m\"\u001b[39;49m\u001b[39mBank-Data\u001b[39;49m\u001b[39m\"\u001b[39;49m,\n\u001b[0;32m      <a href='vscode-notebook-cell:/c%3A/Users/Lenovo/OneDrive/Desktop/jem3a/Projet_Info_Data/Mercury-repo/main.ipynb#W0sZmlsZQ%3D%3D?line=7'>8</a>\u001b[0m         user\u001b[39m=\u001b[39;49m\u001b[39m\"\u001b[39;49m\u001b[39mroot\u001b[39;49m\u001b[39m\"\u001b[39;49m,\n\u001b[0;32m      <a href='vscode-notebook-cell:/c%3A/Users/Lenovo/OneDrive/Desktop/jem3a/Projet_Info_Data/Mercury-repo/main.ipynb#W0sZmlsZQ%3D%3D?line=8'>9</a>\u001b[0m         password\u001b[39m=\u001b[39;49m\u001b[39m\"\u001b[39;49m\u001b[39mroot\u001b[39;49m\u001b[39m\"\u001b[39;49m,\n\u001b[0;32m     <a href='vscode-notebook-cell:/c%3A/Users/Lenovo/OneDrive/Desktop/jem3a/Projet_Info_Data/Mercury-repo/main.ipynb#W0sZmlsZQ%3D%3D?line=9'>10</a>\u001b[0m         host\u001b[39m=\u001b[39;49m\u001b[39m\"\u001b[39;49m\u001b[39mYourHost\u001b[39;49m\u001b[39m\"\u001b[39;49m,\n\u001b[0;32m     <a href='vscode-notebook-cell:/c%3A/Users/Lenovo/OneDrive/Desktop/jem3a/Projet_Info_Data/Mercury-repo/main.ipynb#W0sZmlsZQ%3D%3D?line=10'>11</a>\u001b[0m         port\u001b[39m=\u001b[39;49m\u001b[39m\"\u001b[39;49m\u001b[39mYourPort\u001b[39;49m\u001b[39m\"\u001b[39;49m\n\u001b[0;32m     <a href='vscode-notebook-cell:/c%3A/Users/Lenovo/OneDrive/Desktop/jem3a/Projet_Info_Data/Mercury-repo/main.ipynb#W0sZmlsZQ%3D%3D?line=11'>12</a>\u001b[0m     )\n\u001b[0;32m     <a href='vscode-notebook-cell:/c%3A/Users/Lenovo/OneDrive/Desktop/jem3a/Projet_Info_Data/Mercury-repo/main.ipynb#W0sZmlsZQ%3D%3D?line=12'>13</a>\u001b[0m     \u001b[39mreturn\u001b[39;00m conn\n",
      "File \u001b[1;32mc:\\Users\\Lenovo\\anaconda3\\envs\\usj_data_project\\lib\\site-packages\\psycopg2\\__init__.py:122\u001b[0m, in \u001b[0;36mconnect\u001b[1;34m(dsn, connection_factory, cursor_factory, **kwargs)\u001b[0m\n\u001b[0;32m    119\u001b[0m     kwasync[\u001b[39m'\u001b[39m\u001b[39masync_\u001b[39m\u001b[39m'\u001b[39m] \u001b[39m=\u001b[39m kwargs\u001b[39m.\u001b[39mpop(\u001b[39m'\u001b[39m\u001b[39masync_\u001b[39m\u001b[39m'\u001b[39m)\n\u001b[0;32m    121\u001b[0m dsn \u001b[39m=\u001b[39m _ext\u001b[39m.\u001b[39mmake_dsn(dsn, \u001b[39m*\u001b[39m\u001b[39m*\u001b[39mkwargs)\n\u001b[1;32m--> 122\u001b[0m conn \u001b[39m=\u001b[39m _connect(dsn, connection_factory\u001b[39m=\u001b[39mconnection_factory, \u001b[39m*\u001b[39m\u001b[39m*\u001b[39mkwasync)\n\u001b[0;32m    123\u001b[0m \u001b[39mif\u001b[39;00m cursor_factory \u001b[39mis\u001b[39;00m \u001b[39mnot\u001b[39;00m \u001b[39mNone\u001b[39;00m:\n\u001b[0;32m    124\u001b[0m     conn\u001b[39m.\u001b[39mcursor_factory \u001b[39m=\u001b[39m cursor_factory\n",
      "\u001b[1;31mOperationalError\u001b[0m: invalid integer value \"YourPort\" for connection option \"port\"\n"
     ]
    }
   ],
   "source": [
    "import pandas as pd\n",
    "import psycopg2\n",
    "import logging\n",
    "\n",
    "def connect_to_db():\n",
    "    conn = psycopg2.connect(\n",
    "        database=\"Bank-Data\",\n",
    "        user=\"root\",\n",
    "        password=\"root\",\n",
    "        host=\"YourHost\",\n",
    "        port=\"YourPort\"\n",
    "    )\n",
    "    return conn\n",
    "\n",
    "logging.basicConfig(level=logging.INFO)\n",
    "\n",
    "def execute_query(conn, query, data=None):\n",
    "    try:\n",
    "        with conn.cursor() as cur:\n",
    "            if data:\n",
    "                cur.execute(query, data)\n",
    "            else:\n",
    "                cur.execute(query)\n",
    "            conn.commit()\n",
    "            logging.info(\"Query executed successfully!\")\n",
    "    except Exception as e:\n",
    "        logging.error(f\"Error executing query: {e}\")\n",
    "\n",
    "\n",
    "def read_file(file_path):\n",
    "    if file_path.endswith('.csv'):\n",
    "        return pd.read_csv(file_path)\n",
    "    elif file_path.endswith('.xlsx'):\n",
    "        return pd.read_excel(file_path)\n",
    "    else:\n",
    "        logging.error(f\"Unsupported file format for {file_path}\")\n",
    "        return None\n",
    "\n",
    "def execute_sql_file(conn, file_path):\n",
    "    with open(file_path, 'r') as file:\n",
    "        sql_query = file.read()\n",
    "        execute_query(conn, sql_query)\n",
    "\n",
    "conn = connect_to_db()\n",
    "execute_sql_file(conn, \"query.sql\")\n"
   ]
  }
 ],
 "metadata": {
  "kernelspec": {
   "display_name": "usj_data_project",
   "language": "python",
   "name": "python3"
  },
  "language_info": {
   "codemirror_mode": {
    "name": "ipython",
    "version": 3
   },
   "file_extension": ".py",
   "mimetype": "text/x-python",
   "name": "python",
   "nbconvert_exporter": "python",
   "pygments_lexer": "ipython3",
   "version": "3.9.18"
  },
  "orig_nbformat": 4
 },
 "nbformat": 4,
 "nbformat_minor": 2
}
