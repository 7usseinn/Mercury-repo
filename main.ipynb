{
 "cells": [
  {
   "cell_type": "code",
   "execution_count": 2,
   "metadata": {},
   "outputs": [],
   "source": [
    "import database_handler\n",
    "import data_handler\n",
    "db_session = database_handler.connect_to_db('config.json')"
   ]
  },
  {
   "cell_type": "code",
   "execution_count": 7,
   "metadata": {},
   "outputs": [],
   "source": [
    "import data_handler\n",
    "fraud_dataframe = data_handler.return_data_as_dataframe(r'/Users/elieelkhoury/Desktop/Desk/ProjetInfo/Fraud.csv','csv', db_session)"
   ]
  },
  {
   "cell_type": "code",
   "execution_count": 3,
   "metadata": {},
   "outputs": [],
   "source": [
    "stg_table_query = data_handler.create_staging_table(fraud_dataframe,'bank_schema','stg_kaggle_fraud')\n",
    "database_handler.execute_query(db_session,stg_table_query)"
   ]
  },
  {
   "cell_type": "code",
   "execution_count": 4,
   "metadata": {},
   "outputs": [],
   "source": [
    "insert_statements = data_handler.return_insert_statement(fraud_dataframe,'stg_kaggle_fraud','bank_schema')"
   ]
  },
  {
   "cell_type": "code",
   "execution_count": 5,
   "metadata": {},
   "outputs": [],
   "source": [
    "for insert_statement in insert_statements:\n",
    "    database_handler.execute_query(db_session, insert_statement)"
   ]
  },
  {
   "cell_type": "code",
   "execution_count": 4,
   "metadata": {},
   "outputs": [],
   "source": [
    "import database_handler\n",
    "etl_watermark_table_sql = data_handler.return_sql_file(r'/Users/elieelkhoury/Desktop/Desk/ProjetInfo/Mercury-repo/SQL_Commands/V2__create_etl_watermark.sql')\n",
    "database_handler.execute_query(db_session,etl_watermark_table_sql)"
   ]
  },
  {
   "cell_type": "code",
   "execution_count": 5,
   "metadata": {},
   "outputs": [],
   "source": [
    "sql_fact_table = data_handler.return_sql_file(r'/Users/elieelkhoury/Desktop/Desk/ProjetInfo/Mercury-repo/SQL_Commands/V3__create_dimensions.sql')\n",
    "database_handler.execute_query(db_session,sql_fact_table)"
   ]
  },
  {
   "cell_type": "code",
   "execution_count": 8,
   "metadata": {},
   "outputs": [],
   "source": [
    "insert_statements = data_handler.return_insert_statement(fraud_dataframe,'fct_fraud','bank_schema')"
   ]
  },
  {
   "cell_type": "code",
   "execution_count": 9,
   "metadata": {},
   "outputs": [],
   "source": [
    "for insert_statement in insert_statements:\n",
    "    database_handler.execute_query(db_session, insert_statement)"
   ]
  },
  {
   "cell_type": "code",
   "execution_count": 11,
   "metadata": {},
   "outputs": [],
   "source": [
    "agg_tables_sql = data_handler.return_sql_file(r'/Users/elieelkhoury/Desktop/Desk/ProjetInfo/Mercury-repo/SQL_Commands/V4__create_aggregate_tables.sql')\n",
    "database_handler.execute_query(db_session,agg_tables_sql)"
   ]
  }
 ],
 "metadata": {
  "kernelspec": {
   "display_name": "usj_data_project",
   "language": "python",
   "name": "python3"
  },
  "language_info": {
   "codemirror_mode": {
    "name": "ipython",
    "version": 3
   },
   "file_extension": ".py",
   "mimetype": "text/x-python",
   "name": "python",
   "nbconvert_exporter": "python",
   "pygments_lexer": "ipython3",
   "version": "3.9.18"
  },
  "orig_nbformat": 4
 },
 "nbformat": 4,
 "nbformat_minor": 2
}
