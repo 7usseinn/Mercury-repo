{
 "cells": [
  {
   "cell_type": "code",
   "execution_count": 7,
   "metadata": {},
   "outputs": [
    {
     "name": "stderr",
     "output_type": "stream",
     "text": [
      "INFO:root:Query executed successfully!\n"
     ]
    },
    {
     "name": "stdout",
     "output_type": "stream",
     "text": [
      "(1,)\n"
     ]
    }
   ],
   "source": [
    "import pandas as pd\n",
    "import psycopg2\n",
    "import logging\n",
    "\n",
    "def connect_to_db():\n",
    "    conn = psycopg2.connect(\n",
    "        database=\"Bank-data\",\n",
    "        user=\"postgres\",\n",
    "        password=\"hajhaSSan1\",\n",
    "        host=\"localhost\",\n",
    "        port=\"5432\"\n",
    "    )\n",
    "    return conn\n",
    "\n",
    "logging.basicConfig(level=logging.INFO)\n",
    "\n",
    "def execute_query(conn, query, data=None, return_result=False):\n",
    "    try:\n",
    "        with conn.cursor() as cur:\n",
    "            if data:\n",
    "                cur.execute(query, data)\n",
    "            else:\n",
    "                cur.execute(query)\n",
    "            \n",
    "            if return_result:\n",
    "                result = cur.fetchall()\n",
    "                logging.info(\"Query executed successfully!\")\n",
    "                return result\n",
    "            else:\n",
    "                conn.commit()\n",
    "                logging.info(\"Query executed successfully!\")\n",
    "    except Exception as e:\n",
    "        logging.error(f\"Error executing query: {e}\")\n",
    "\n",
    "\n",
    "def read_file(file_path):\n",
    "    if file_path.endswith('.csv'):\n",
    "        return pd.read_csv(file_path)\n",
    "    elif file_path.endswith('.xlsx'):\n",
    "        return pd.read_excel(file_path)\n",
    "    else:\n",
    "        logging.error(f\"Unsupported file format for {file_path}\")\n",
    "        return None\n",
    "\n",
    "def execute_sql_file(conn, file_path, return_result=False):\n",
    "    with open(file_path, 'r') as file:\n",
    "        sql_query = file.read()\n",
    "        return execute_query(conn, sql_query, return_result=return_result)\n",
    "\n",
    "conn = connect_to_db()\n",
    "result = execute_sql_file(conn, \"query.sql\", return_result=True)\n",
    "\n",
    "for row in result:\n",
    "    print(row)\n"
   ]
  }
 ],
 "metadata": {
  "kernelspec": {
   "display_name": "usj_data_project",
   "language": "python",
   "name": "python3"
  },
  "language_info": {
   "codemirror_mode": {
    "name": "ipython",
    "version": 3
   },
   "file_extension": ".py",
   "mimetype": "text/x-python",
   "name": "python",
   "nbconvert_exporter": "python",
   "pygments_lexer": "ipython3",
   "version": "3.9.18"
  },
  "orig_nbformat": 4
 },
 "nbformat": 4,
 "nbformat_minor": 2
}
