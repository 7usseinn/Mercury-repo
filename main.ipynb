{
 "cells": [
  {
   "cell_type": "code",
   "execution_count": 1,
   "metadata": {},
   "outputs": [],
   "source": [
    "import database_handler\n",
    "import data_handler\n",
    "db_session = database_handler.connect_to_db('config.json')"
   ]
  },
  {
   "cell_type": "code",
   "execution_count": 2,
   "metadata": {},
   "outputs": [],
   "source": [
    "import data_handler\n",
    "df = data_handler.return_data_as_dataframe(r'C:\\Users\\Lenovo\\OneDrive\\Desktop\\jem3a\\Projet_Info_Data\\Fraud2.csv','csv', db_session)"
   ]
  },
  {
   "cell_type": "code",
   "execution_count": 3,
   "metadata": {},
   "outputs": [],
   "source": [
    "insert_statements = data_handler.return_insert_statement(df,'stg_kaggle_fraud2','bank_schema')"
   ]
  },
  {
   "cell_type": "code",
   "execution_count": 4,
   "metadata": {},
   "outputs": [],
   "source": [
    "for insert_statement in insert_statements:\n",
    "    database_handler.execute_query(db_session, insert_statement)"
   ]
  },
  {
   "cell_type": "code",
   "execution_count": 17,
   "metadata": {},
   "outputs": [],
   "source": [
    "import database_handler\n",
    "etl_watermark_table_sql = data_handler.return_sql_file(r'C:\\Users\\Lenovo\\OneDrive\\Desktop\\jem3a\\Projet_Info_Data\\Mercury-repo\\SQL_Commands\\V2__create_etl_watermark.sql')\n",
    "database_handler.execute_query(db_session,etl_watermark_table_sql)"
   ]
  },
  {
   "cell_type": "code",
   "execution_count": 18,
   "metadata": {},
   "outputs": [],
   "source": [
    "dim_fact_table_sql = data_handler.return_sql_file(r'C:\\Users\\Lenovo\\OneDrive\\Desktop\\jem3a\\Projet_Info_Data\\Mercury-repo\\SQL_Commands\\V3__create_dimensions.sql')\n",
    "database_handler.execute_query(db_session,dim_fact_table_sql)"
   ]
  },
  {
   "cell_type": "code",
   "execution_count": 2,
   "metadata": {},
   "outputs": [],
   "source": [
    "fraud_dataframe = data_handler.return_data_as_dataframe(r'C:\\Users\\Lenovo\\OneDrive\\Desktop\\jem3a\\Projet_Info_Data\\Fraud.csv','csv', db_session)"
   ]
  },
  {
   "cell_type": "code",
   "execution_count": 3,
   "metadata": {},
   "outputs": [],
   "source": [
    "dim_orig_dest_data = fraud_dataframe[['nameOrig','nameDest']]\n",
    "dim_insert_statememts = data_handler.return_insert_statement(dim_orig_dest_data,'dim_orig_dest','bank_schema')"
   ]
  },
  {
   "cell_type": "code",
   "execution_count": 3,
   "metadata": {},
   "outputs": [],
   "source": [
    "fact_orig_dest_data = fraud_dataframe[['type','amount','oldbalanceOrg','newbalanceOrig','oldbalanceDest','newbalanceDest','isFraud']]\n",
    "fact_insert_statememts = data_handler.return_insert_statement(fact_orig_dest_data,'fact_orig_dest','bank_schema')"
   ]
  },
  {
   "cell_type": "code",
   "execution_count": null,
   "metadata": {},
   "outputs": [],
   "source": [
    "for insert_statement in dim_insert_statememts:\n",
    "    database_handler.execute_query(db_session, insert_statement)"
   ]
  },
  {
   "cell_type": "code",
   "execution_count": 4,
   "metadata": {},
   "outputs": [],
   "source": [
    "for insert_statement in fact_insert_statememts:\n",
    "    database_handler.execute_query(db_session, insert_statement)"
   ]
  }
 ],
 "metadata": {
  "kernelspec": {
   "display_name": "usj_data_project",
   "language": "python",
   "name": "python3"
  },
  "language_info": {
   "codemirror_mode": {
    "name": "ipython",
    "version": 3
   },
   "file_extension": ".py",
   "mimetype": "text/x-python",
   "name": "python",
   "nbconvert_exporter": "python",
   "pygments_lexer": "ipython3",
   "version": "3.9.18"
  },
  "orig_nbformat": 4
 },
 "nbformat": 4,
 "nbformat_minor": 2
}
